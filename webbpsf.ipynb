{
 "cells": [
  {
   "cell_type": "code",
   "execution_count": null,
   "metadata": {},
   "outputs": [],
   "source": [
    "import os\n",
    "import numpy as np\n",
    "import random\n",
    "from skimage import io\n",
    "import matplotlib.pyplot as plt\n",
    "import galsim\n",
    "import webbpsf\n",
    "from utils import PSNR\n",
    "import torch\n",
    "from torch.fft import fft2, ifft2, fftshift, ifftshift\n",
    "\n",
    "%matplotlib inline"
   ]
  },
  {
   "cell_type": "code",
   "execution_count": null,
   "metadata": {},
   "outputs": [],
   "source": [
    "webbpsf.setup_logging('ERROR')"
   ]
  },
  {
   "cell_type": "code",
   "execution_count": 938,
   "metadata": {},
   "outputs": [
    {
     "name": "stderr",
     "output_type": "stream",
     "text": [
      "WARNING: 2 bin(s) contained negative flux or throughput; it/they will be set to zero.\n",
      "  points: [7963.92785571 8244.48897796]\n",
      "  lookup_table: [-6.02512296e-06 -1.66221361e-04] [synphot.models]\n",
      "[astropy] 2 bin(s) contained negative flux or throughput; it/they will be set to zero.\n",
      "  points: [7963.92785571 8244.48897796]\n",
      "  lookup_table: [-6.02512296e-06 -1.66221361e-04]\n"
     ]
    }
   ],
   "source": [
    "fov_pixels = 64\n",
    "psfs = dict()\n",
    "insts = ['NIRCam','NIRSpec','NIRISS', 'MIRI', 'FGS']\n",
    "for instname in insts:\n",
    "    inst = webbpsf.instrument(instname)\n",
    "    filters = inst.filter_list\n",
    "    for filter in filters:\n",
    "        inst.filter = filter\n",
    "        try:\n",
    "            psf_list = inst.calc_psf(fov_pixels=fov_pixels, oversample=1)\n",
    "            psf = torch.from_numpy(psf_list[0].data)\n",
    "            psf /= psf.sum()\n",
    "            psfs[instname+filter] = psf\n",
    "        except:\n",
    "            pass"
   ]
  },
  {
   "cell_type": "code",
   "execution_count": 933,
   "metadata": {},
   "outputs": [
    {
     "name": "stdout",
     "output_type": "stream",
     "text": [
      "NIRCam F466N 0.063\n"
     ]
    }
   ],
   "source": [
    "fov_pixels = 64\n",
    "\n",
    "# Randomly choose a instrument and a filter\n",
    "insts = ['NIRCam','NIRSpec','NIRISS', 'MIRI', 'FGS']\n",
    "instname = random.choice(insts)\n",
    "inst = webbpsf.instrument(instname)\n",
    "filter = random.choice(inst.filter_list)\n",
    "inst.filter = filter\n",
    "pixel_scale = inst.pixelscale\n",
    "print(instname, inst.filter, pixel_scale)"
   ]
  },
  {
   "cell_type": "code",
   "execution_count": 934,
   "metadata": {},
   "outputs": [],
   "source": [
    "# Calculate PSF\n",
    "psf_list = inst.calc_psf(fov_pixels=fov_pixels, oversample=1)\n",
    "psf = torch.from_numpy(psf_list[0].data)\n",
    "psf = torch.max(torch.zeros_like(psf), psf)\n",
    "psf /= psf.sum()"
   ]
  },
  {
   "cell_type": "code",
   "execution_count": 935,
   "metadata": {},
   "outputs": [],
   "source": [
    "# Pick a galaxy and draw galaxy image\n",
    "COSMOS_dir = './data/COSMOS_23.5_training_sample/'\n",
    "idx = 635\n",
    "gal_flux = 1.e5\n",
    "sky_level = 0.5e4\n",
    "real_galaxy_catalog = galsim.RealGalaxyCatalog(dir=COSMOS_dir, sample=str(23.5))\n",
    "gal_ori = galsim.RealGalaxy(real_galaxy_catalog, random=True, flux = gal_flux)\n",
    "psf_ori = real_galaxy_catalog.getPSF(i=idx)\n",
    "gal = galsim.Convolve([psf_ori, gal_ori])\n",
    "gal_image = galsim.ImageF(fov_pixels, fov_pixels)\n",
    "gal.drawImage(gal_image, scale=pixel_scale, method='auto')\n",
    "gal_image = torch.from_numpy(gal_image.array)\n",
    "gal_image += sky_level * (pixel_scale**2)\n",
    "gal_image = torch.max(torch.zeros_like(gal_image), gal_image)"
   ]
  },
  {
   "cell_type": "code",
   "execution_count": 936,
   "metadata": {},
   "outputs": [],
   "source": [
    "# Concolve with PSF\n",
    "conv = ifftshift(ifft2(fft2(psf) * fft2(gal_image))).real\n",
    "conv = torch.max(torch.zeros_like(conv), conv) # set negative pixels to zero\n",
    "\n",
    "# Add CCD noise (Poisson + Gaussian)\n",
    "obs = torch.poisson(conv) + torch.normal(mean=torch.zeros_like(conv), std=torch.ones_like(conv))\n",
    "obs = torch.max(torch.zeros_like(obs), obs) # set negative pixels to zero\n",
    "\n",
    "# # Recover with Fourier Division (fails)\n",
    "# fourier_div = ifft2(fft2(obs) / abs(fft2(psf))).real"
   ]
  },
  {
   "cell_type": "code",
   "execution_count": 937,
   "metadata": {},
   "outputs": [
    {
     "data": {
      "image/png": "[encoded data removed]",
      "text/plain": [
       "<Figure size 1152x432 with 3 Axes>"
      ]
     },
     "metadata": {
      "needs_background": "light"
     },
     "output_type": "display_data"
    }
   ],
   "source": [
    "# Plot Image\n",
    "plt.figure(figsize=(16,6))\n",
    "plt.subplot(1,3,1)\n",
    "plt.imshow(gal_image)\n",
    "\n",
    "plt.subplot(1,3,2)\n",
    "plt.imshow(psf[10:-10,10:-10])\n",
    "\n",
    "plt.subplot(1,3,3)\n",
    "plt.imshow(obs)\n",
    "plt.title('Observed Image (PSNR={:.2f})'.format(PSNR(gal_image, obs)))\n",
    "\n",
    "# plt.subplot(1,3,4)\n",
    "# plt.imshow(fourier_div)\n",
    "# plt.title('Fourier Division (PSNR={:.2f})'.format(PSNR(gal_image, fourier_div)))\n",
    "\n",
    "plt.show()"
   ]
  },
  {
   "cell_type": "code",
   "execution_count": null,
   "metadata": {},
   "outputs": [],
   "source": [
    "print(gal_image.min(), gal_image.max(), gal_image.mean())\n",
    "print(obs.min(), obs.max(), obs.mean())\n",
    "print((gal_image<0).sum())"
   ]
  }
 ],
 "metadata": {
  "kernelspec": {
   "display_name": "Python 3.8.12 ('astro')",
   "language": "python",
   "name": "python3"
  },
  "language_info": {
   "codemirror_mode": {
    "name": "ipython",
    "version": 3
   },
   "file_extension": ".py",
   "mimetype": "text/x-python",
   "name": "python",
   "nbconvert_exporter": "python",
   "pygments_lexer": "ipython3",
   "version": "3.8.12"
  },
  "orig_nbformat": 4,
  "vscode": {
   "interpreter": {
    "hash": "5b961726f24694b6f17f740f2c5030ec25616772daf73a312ff6748a00a3f54b"
   }
  }
 },
 "nbformat": 4,
 "nbformat_minor": 2
}
