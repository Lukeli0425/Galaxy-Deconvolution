{
 "cells": [
  {
   "cell_type": "markdown",
   "metadata": {},
   "source": [
    "### PnP ADMM"
   ]
  },
  {
   "cell_type": "code",
   "execution_count": 64,
   "metadata": {},
   "outputs": [],
   "source": [
    "import numpy as np\n",
    "from Unet import Unet\n",
    "from pnp import pnp_admm\n",
    "from utils_pnp import conv2d_from_kernel, compute_psnr, ImagenetDataset, myplot\n",
    "import torch\n",
    "from torch import nn\n",
    "from torch.utils.data import DataLoader\n",
    "from dataset import Galaxy_Dataset\n",
    "import matplotlib.pyplot as plt\n",
    "\n",
    "%matplotlib inline\n",
    "\n",
    "device = torch.device(\"cuda:0\" if torch.cuda.is_available() else \"cpu\")"
   ]
  },
  {
   "cell_type": "markdown",
   "metadata": {},
   "source": [
    "### Train Unet"
   ]
  },
  {
   "cell_type": "code",
   "execution_count": 65,
   "metadata": {},
   "outputs": [],
   "source": [
    "def conv2d_from_kernel(kernel, channels, device, stride=1):\n",
    "    \"\"\"\n",
    "    Returns nn.Conv2d and nn.ConvTranspose2d modules from 2D kernel, such that \n",
    "    nn.ConvTranspose2d is the adjoint operator of nn.Conv2d\n",
    "    Arg:\n",
    "        kernel: 2D kernel\n",
    "        channels: number of image channels\n",
    "    \"\"\"\n",
    "    kernel_size = kernel.shape\n",
    "    kernel = kernel/kernel.sum()\n",
    "    kernel = kernel.repeat(channels, 1, 1, 1)\n",
    "    filter = nn.Conv2d(\n",
    "        in_channels=channels, out_channels=channels,\n",
    "        kernel_size=kernel_size, groups=channels, bias=False, stride=stride,\n",
    "        # padding=kernel_size//2\n",
    "    )\n",
    "    filter.weight.data = kernel\n",
    "    filter.weight.requires_grad = False\n",
    "\n",
    "    filter_adjoint = nn.ConvTranspose2d(\n",
    "        in_channels=channels, out_channels=channels,\n",
    "        kernel_size=kernel_size, groups=channels, bias=False, stride=stride,\n",
    "        # padding=kernel_size//2,\n",
    "    )\n",
    "    filter_adjoint.weight.data = kernel\n",
    "    filter_adjoint.weight.requires_grad = False\n",
    "\n",
    "    return filter.to(device), filter_adjoint.to(device)\n",
    "\n",
    "class PnP_ADMM(nn.Module):\n",
    "    def __init__(self, n_iter):\n",
    "        super(PnP_ADMM, self).__init__()\n",
    "        self.n_iter = n_iter\n",
    "    \n",
    "    def forward(self, x, kernel):\n",
    "        x = torch.zeros_like(x_h)\n",
    "        u = torch.zeros_like(x)\n",
    "        v = torch.zeros_like(x)\n",
    "        for _ in range(self.n_iter):\n",
    "            b = cg_rightside(v-u)\n",
    "            x = conjugate_gradient(cg_leftside, b, x, max_cgiter, cg_tol)\n",
    "            v = denoiser(x+u)\n",
    "            u += (x - v)\n",
    "        return v\n"
   ]
  },
  {
   "cell_type": "markdown",
   "metadata": {},
   "source": [
    "### Deconvolution"
   ]
  },
  {
   "cell_type": "code",
   "execution_count": 66,
   "metadata": {},
   "outputs": [
    {
     "name": "stdout",
     "output_type": "stream",
     "text": [
      "#Parameters: 31025027\n"
     ]
    },
    {
     "ename": "KeyboardInterrupt",
     "evalue": "",
     "output_type": "error",
     "traceback": [
      "\u001b[0;31m---------------------------------------------------------------------------\u001b[0m",
      "\u001b[0;31mKeyboardInterrupt\u001b[0m                         Traceback (most recent call last)",
      "\u001b[1;32m/Users/luke/Desktop/Galaxy-Deconvolution/PnP_ADMM.ipynb Cell 6\u001b[0m in \u001b[0;36m<cell line: 17>\u001b[0;34m()\u001b[0m\n\u001b[1;32m     <a href='vscode-notebook-cell:/Users/luke/Desktop/Galaxy-Deconvolution/PnP_ADMM.ipynb#ch0000002?line=16'>17</a>\u001b[0m \u001b[39mwith\u001b[39;00m torch\u001b[39m.\u001b[39mno_grad():\n\u001b[1;32m     <a href='vscode-notebook-cell:/Users/luke/Desktop/Galaxy-Deconvolution/PnP_ADMM.ipynb#ch0000002?line=17'>18</a>\u001b[0m     model\u001b[39m.\u001b[39meval()\n\u001b[0;32m---> <a href='vscode-notebook-cell:/Users/luke/Desktop/Galaxy-Deconvolution/PnP_ADMM.ipynb#ch0000002?line=18'>19</a>\u001b[0m     x \u001b[39m=\u001b[39m pnp_admm(y, forward, forward_adjoint, model, num_iter\u001b[39m=\u001b[39;49m\u001b[39m50\u001b[39;49m)\n\u001b[1;32m     <a href='vscode-notebook-cell:/Users/luke/Desktop/Galaxy-Deconvolution/PnP_ADMM.ipynb#ch0000002?line=19'>20</a>\u001b[0m     x \u001b[39m=\u001b[39m x\u001b[39m.\u001b[39mclip(\u001b[39m0\u001b[39m,\u001b[39m1\u001b[39m)\n\u001b[1;32m     <a href='vscode-notebook-cell:/Users/luke/Desktop/Galaxy-Deconvolution/PnP_ADMM.ipynb#ch0000002?line=21'>22</a>\u001b[0m \u001b[39m# Plot\u001b[39;00m\n\u001b[1;32m     <a href='vscode-notebook-cell:/Users/luke/Desktop/Galaxy-Deconvolution/PnP_ADMM.ipynb#ch0000002?line=22'>23</a>\u001b[0m \u001b[39m# print('PSNR [dB]: {:.2f}'.format(compute_psnr(x, test_image)))\u001b[39;00m\n\u001b[1;32m     <a href='vscode-notebook-cell:/Users/luke/Desktop/Galaxy-Deconvolution/PnP_ADMM.ipynb#ch0000002?line=23'>24</a>\u001b[0m \u001b[39m# myplot(obs, x[:,0,:,:], gt)\u001b[39;00m\n",
      "File \u001b[0;32m~/Desktop/Galaxy-Deconvolution/pnp.py:49\u001b[0m, in \u001b[0;36mpnp_admm\u001b[0;34m(measurements, forward, forward_adjoint, denoiser, step_size, num_iter, max_cgiter, cg_tol)\u001b[0m\n\u001b[1;32m     47\u001b[0m \u001b[39mfor\u001b[39;00m _ \u001b[39min\u001b[39;00m \u001b[39mrange\u001b[39m(num_iter):\n\u001b[1;32m     48\u001b[0m     b \u001b[39m=\u001b[39m cg_rightside(v\u001b[39m-\u001b[39mu)\n\u001b[0;32m---> 49\u001b[0m     x \u001b[39m=\u001b[39m conjugate_gradient(cg_leftside, b, x, max_cgiter, cg_tol)\n\u001b[1;32m     50\u001b[0m     v \u001b[39m=\u001b[39m denoiser(x\u001b[39m+\u001b[39mu)\n\u001b[1;32m     51\u001b[0m     u \u001b[39m+\u001b[39m\u001b[39m=\u001b[39m (x \u001b[39m-\u001b[39m v)\n",
      "File \u001b[0;32m~/Desktop/Galaxy-Deconvolution/pnp.py:20\u001b[0m, in \u001b[0;36mpnp_admm.<locals>.conjugate_gradient\u001b[0;34m(A, b, x0, max_iter, tol)\u001b[0m\n\u001b[1;32m     18\u001b[0m d \u001b[39m=\u001b[39m r\n\u001b[1;32m     19\u001b[0m \u001b[39mfor\u001b[39;00m _ \u001b[39min\u001b[39;00m \u001b[39mrange\u001b[39m(max_iter):\n\u001b[0;32m---> 20\u001b[0m     z \u001b[39m=\u001b[39m A(d)\n\u001b[1;32m     21\u001b[0m     rr \u001b[39m=\u001b[39m torch\u001b[39m.\u001b[39msum(r\u001b[39m*\u001b[39m\u001b[39m*\u001b[39m\u001b[39m2\u001b[39m)\n\u001b[1;32m     22\u001b[0m     alpha \u001b[39m=\u001b[39m rr\u001b[39m/\u001b[39mtorch\u001b[39m.\u001b[39msum(d\u001b[39m*\u001b[39mz)\n",
      "File \u001b[0;32m~/Desktop/Galaxy-Deconvolution/pnp.py:35\u001b[0m, in \u001b[0;36mpnp_admm.<locals>.cg_leftside\u001b[0;34m(x)\u001b[0m\n\u001b[1;32m     31\u001b[0m \u001b[39mdef\u001b[39;00m \u001b[39mcg_leftside\u001b[39m(x):\n\u001b[1;32m     32\u001b[0m     \u001b[39m\"\"\"\u001b[39;00m\n\u001b[1;32m     33\u001b[0m \u001b[39m    Return left side of Ax=b, i.e., Ax\u001b[39;00m\n\u001b[1;32m     34\u001b[0m \u001b[39m    \"\"\"\u001b[39;00m\n\u001b[0;32m---> 35\u001b[0m     \u001b[39mreturn\u001b[39;00m forward_adjoint(forward(x)) \u001b[39m+\u001b[39m step_size\u001b[39m*\u001b[39mx\n",
      "File \u001b[0;32m~/miniforge3/envs/astro/lib/python3.8/site-packages/torch/nn/modules/module.py:1130\u001b[0m, in \u001b[0;36mModule._call_impl\u001b[0;34m(self, *input, **kwargs)\u001b[0m\n\u001b[1;32m   1126\u001b[0m \u001b[39m# If we don't have any hooks, we want to skip the rest of the logic in\u001b[39;00m\n\u001b[1;32m   1127\u001b[0m \u001b[39m# this function, and just call forward.\u001b[39;00m\n\u001b[1;32m   1128\u001b[0m \u001b[39mif\u001b[39;00m \u001b[39mnot\u001b[39;00m (\u001b[39mself\u001b[39m\u001b[39m.\u001b[39m_backward_hooks \u001b[39mor\u001b[39;00m \u001b[39mself\u001b[39m\u001b[39m.\u001b[39m_forward_hooks \u001b[39mor\u001b[39;00m \u001b[39mself\u001b[39m\u001b[39m.\u001b[39m_forward_pre_hooks \u001b[39mor\u001b[39;00m _global_backward_hooks\n\u001b[1;32m   1129\u001b[0m         \u001b[39mor\u001b[39;00m _global_forward_hooks \u001b[39mor\u001b[39;00m _global_forward_pre_hooks):\n\u001b[0;32m-> 1130\u001b[0m     \u001b[39mreturn\u001b[39;00m forward_call(\u001b[39m*\u001b[39;49m\u001b[39minput\u001b[39;49m, \u001b[39m*\u001b[39;49m\u001b[39m*\u001b[39;49mkwargs)\n\u001b[1;32m   1131\u001b[0m \u001b[39m# Do not call functions when jit is used\u001b[39;00m\n\u001b[1;32m   1132\u001b[0m full_backward_hooks, non_full_backward_hooks \u001b[39m=\u001b[39m [], []\n",
      "File \u001b[0;32m~/miniforge3/envs/astro/lib/python3.8/site-packages/torch/nn/modules/conv.py:950\u001b[0m, in \u001b[0;36mConvTranspose2d.forward\u001b[0;34m(self, input, output_size)\u001b[0m\n\u001b[1;32m    945\u001b[0m num_spatial_dims \u001b[39m=\u001b[39m \u001b[39m2\u001b[39m\n\u001b[1;32m    946\u001b[0m output_padding \u001b[39m=\u001b[39m \u001b[39mself\u001b[39m\u001b[39m.\u001b[39m_output_padding(\n\u001b[1;32m    947\u001b[0m     \u001b[39minput\u001b[39m, output_size, \u001b[39mself\u001b[39m\u001b[39m.\u001b[39mstride, \u001b[39mself\u001b[39m\u001b[39m.\u001b[39mpadding, \u001b[39mself\u001b[39m\u001b[39m.\u001b[39mkernel_size,  \u001b[39m# type: ignore[arg-type]\u001b[39;00m\n\u001b[1;32m    948\u001b[0m     num_spatial_dims, \u001b[39mself\u001b[39m\u001b[39m.\u001b[39mdilation)  \u001b[39m# type: ignore[arg-type]\u001b[39;00m\n\u001b[0;32m--> 950\u001b[0m \u001b[39mreturn\u001b[39;00m F\u001b[39m.\u001b[39;49mconv_transpose2d(\n\u001b[1;32m    951\u001b[0m     \u001b[39minput\u001b[39;49m, \u001b[39mself\u001b[39;49m\u001b[39m.\u001b[39;49mweight, \u001b[39mself\u001b[39;49m\u001b[39m.\u001b[39;49mbias, \u001b[39mself\u001b[39;49m\u001b[39m.\u001b[39;49mstride, \u001b[39mself\u001b[39;49m\u001b[39m.\u001b[39;49mpadding,\n\u001b[1;32m    952\u001b[0m     output_padding, \u001b[39mself\u001b[39;49m\u001b[39m.\u001b[39;49mgroups, \u001b[39mself\u001b[39;49m\u001b[39m.\u001b[39;49mdilation)\n",
      "\u001b[0;31mKeyboardInterrupt\u001b[0m: "
     ]
    }
   ],
   "source": [
    "Dataset = Galaxy_Dataset(data_path='/Users/luke/Desktop/Galaxy-Deconvolution/dataset/',\n",
    "                         COSMOS_path='/Users/luke/Desktop/Galaxy-Deconvolution/data/')\n",
    "Data_loader = DataLoader(Dataset, batch_size=1, shuffle=False)\n",
    "(obs, psf, M), gt = Dataset[4]\n",
    "\n",
    "test_image = obs.repeat(1,3,1,1).to(device)\n",
    "# channels, h, w = test_image.shape\n",
    "forward, forward_adjoint = conv2d_from_kernel(psf, 3, device)\n",
    "\n",
    "model = Unet(3, 3, chans=64).to(device)\n",
    "model.load_state_dict(torch.load('denoiser.pth', map_location=device))\n",
    "print('#Parameters:', sum(p.numel() for p in model.parameters() if p.requires_grad))\n",
    "\n",
    "# Run plug and play\n",
    "# y = forward(test_image)\n",
    "y = test_image\n",
    "with torch.no_grad():\n",
    "    model.eval()\n",
    "    x = pnp_admm(y, forward, forward_adjoint, model, num_iter=50)\n",
    "    x = x.clip(0,1)\n",
    "\n",
    "# Plot\n",
    "# print('PSNR [dB]: {:.2f}'.format(compute_psnr(x, test_image)))\n",
    "# myplot(obs, x[:,0,:,:], gt)\n",
    "plt.figure(figsize=(13,6))\n",
    "plt.subplot(1,3,1)\n",
    "plt.title('Observation')\n",
    "plt.imshow(obs.squeeze(dim=0).squeeze(dim=0).cpu())\n",
    "plt.subplot(1,3,2)\n",
    "plt.title('Reconstruction')\n",
    "plt.imshow(x.squeeze(dim=0)[0,:,:].cpu())\n",
    "plt.subplot(1,3,3)\n",
    "plt.title('Ground Truth')\n",
    "plt.imshow(gt.squeeze(dim=0).squeeze(dim=0).cpu())\n",
    "plt.show()"
   ]
  },
  {
   "cell_type": "code",
   "execution_count": null,
   "metadata": {},
   "outputs": [],
   "source": []
  }
 ],
 "metadata": {
  "kernelspec": {
   "display_name": "Python 3.8.12 ('astro')",
   "language": "python",
   "name": "python3"
  },
  "language_info": {
   "codemirror_mode": {
    "name": "ipython",
    "version": 3
   },
   "file_extension": ".py",
   "mimetype": "text/x-python",
   "name": "python",
   "nbconvert_exporter": "python",
   "pygments_lexer": "ipython3",
   "version": "3.8.12"
  },
  "orig_nbformat": 4,
  "vscode": {
   "interpreter": {
    "hash": "5b961726f24694b6f17f740f2c5030ec25616772daf73a312ff6748a00a3f54b"
   }
  }
 },
 "nbformat": 4,
 "nbformat_minor": 2
}
