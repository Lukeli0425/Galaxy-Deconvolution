{
 "cells": [
  {
   "cell_type": "markdown",
   "metadata": {},
   "source": [
    "## Image Simluation with COSMOS Real galaxy Dataset\n",
    "\n",
    "This notebook will show you the **image simulation** process in our project. We used the python package [Galsim](https://github.com/GalSim-developers/GalSim) and the [COSMOS Real Galaxy Dataset](https://zenodo.org/record/3242143#.Ytjzki-KFAY). \n",
    "\n",
    "$\\begin{equation} Observation = Galaxy \\otimes PSF + Noise \\end{equation}$"
   ]
  },
  {
   "cell_type": "code",
   "execution_count": 1,
   "metadata": {},
   "outputs": [],
   "source": [
    "import os\n",
    "import numpy as np\n",
    "import matplotlib.pyplot as plt\n",
    "import galsim\n",
    "\n",
    "%matplotlib inline"
   ]
  },
  {
   "cell_type": "markdown",
   "metadata": {},
   "source": [
    "### Read out galaxy from real galaxy catalog"
   ]
  },
  {
   "cell_type": "code",
   "execution_count": 2,
   "metadata": {},
   "outputs": [
    {
     "ename": "OSError",
     "evalue": "data/COSMOS_23.5_training_sample/real_galaxy_catalog_23.5.fits not found.",
     "output_type": "error",
     "traceback": [
      "\u001b[0;31m---------------------------------------------------------------------------\u001b[0m",
      "\u001b[0;31mOSError\u001b[0m                                   Traceback (most recent call last)",
      "\u001b[1;32m/Users/luke/Desktop/Galaxy-Deconvolution/demos/image_simulation.ipynb Cell 4\u001b[0m in \u001b[0;36m<cell line: 3>\u001b[0;34m()\u001b[0m\n\u001b[1;32m      <a href='vscode-notebook-cell:/Users/luke/Desktop/Galaxy-Deconvolution/demos/image_simulation.ipynb#ch0000003?line=0'>1</a>\u001b[0m \u001b[39m# Initialize catalog\u001b[39;00m\n\u001b[1;32m      <a href='vscode-notebook-cell:/Users/luke/Desktop/Galaxy-Deconvolution/demos/image_simulation.ipynb#ch0000003?line=1'>2</a>\u001b[0m cosmos_dir \u001b[39m=\u001b[39m \u001b[39m'\u001b[39m\u001b[39mdata/COSMOS_23.5_training_sample/\u001b[39m\u001b[39m'\u001b[39m \u001b[39m# path to your COSMOS data\u001b[39;00m\n\u001b[0;32m----> <a href='vscode-notebook-cell:/Users/luke/Desktop/Galaxy-Deconvolution/demos/image_simulation.ipynb#ch0000003?line=2'>3</a>\u001b[0m real_galaxy_catalog \u001b[39m=\u001b[39m galsim\u001b[39m.\u001b[39;49mRealGalaxyCatalog(\u001b[39mdir\u001b[39;49m\u001b[39m=\u001b[39;49mcosmos_dir, sample\u001b[39m=\u001b[39;49m\u001b[39m\"\u001b[39;49m\u001b[39m23.5\u001b[39;49m\u001b[39m\"\u001b[39;49m)\n\u001b[1;32m      <a href='vscode-notebook-cell:/Users/luke/Desktop/Galaxy-Deconvolution/demos/image_simulation.ipynb#ch0000003?line=4'>5</a>\u001b[0m \u001b[39m# Pick a galaxy\u001b[39;00m\n\u001b[1;32m      <a href='vscode-notebook-cell:/Users/luke/Desktop/Galaxy-Deconvolution/demos/image_simulation.ipynb#ch0000003?line=5'>6</a>\u001b[0m i \u001b[39m=\u001b[39m \u001b[39m4\u001b[39m \u001b[39m# randomly select a galaxy\u001b[39;00m\n",
      "File \u001b[0;32m~/miniforge3/envs/astro/lib/python3.8/site-packages/galsim/real.py:541\u001b[0m, in \u001b[0;36mRealGalaxyCatalog.__init__\u001b[0;34m(self, file_name, sample, dir, preload, logger)\u001b[0m\n\u001b[1;32m    535\u001b[0m     \u001b[39mraise\u001b[39;00m GalSimIncompatibleValuesError(\n\u001b[1;32m    536\u001b[0m         \u001b[39m\"\u001b[39m\u001b[39mCannot specify both the sample and file_name.\u001b[39m\u001b[39m\"\u001b[39m,\n\u001b[1;32m    537\u001b[0m         sample\u001b[39m=\u001b[39msample, file_name\u001b[39m=\u001b[39mfile_name)\n\u001b[1;32m    539\u001b[0m logger \u001b[39m=\u001b[39m LoggerWrapper(logger)\n\u001b[0;32m--> 541\u001b[0m \u001b[39mself\u001b[39m\u001b[39m.\u001b[39mfile_name, \u001b[39mself\u001b[39m\u001b[39m.\u001b[39mimage_dir, \u001b[39mself\u001b[39m\u001b[39m.\u001b[39msample \u001b[39m=\u001b[39m _parse_files_dirs(file_name, \u001b[39mdir\u001b[39;49m, sample)\n\u001b[1;32m    543\u001b[0m \u001b[39mwith\u001b[39;00m pyfits\u001b[39m.\u001b[39mopen(\u001b[39mself\u001b[39m\u001b[39m.\u001b[39mfile_name) \u001b[39mas\u001b[39;00m fits:\n\u001b[1;32m    544\u001b[0m     \u001b[39mself\u001b[39m\u001b[39m.\u001b[39mcat \u001b[39m=\u001b[39m fits[\u001b[39m1\u001b[39m]\u001b[39m.\u001b[39mdata\n",
      "File \u001b[0;32m~/miniforge3/envs/astro/lib/python3.8/site-packages/galsim/real.py:876\u001b[0m, in \u001b[0;36m_parse_files_dirs\u001b[0;34m(file_name, image_dir, sample)\u001b[0m\n\u001b[1;32m    874\u001b[0m     full_file_name \u001b[39m=\u001b[39m os\u001b[39m.\u001b[39mpath\u001b[39m.\u001b[39mjoin(image_dir,file_name)\n\u001b[1;32m    875\u001b[0m \u001b[39mif\u001b[39;00m \u001b[39mnot\u001b[39;00m os\u001b[39m.\u001b[39mpath\u001b[39m.\u001b[39misfile(full_file_name):\n\u001b[0;32m--> 876\u001b[0m     \u001b[39mraise\u001b[39;00m \u001b[39mOSError\u001b[39;00m(full_file_name\u001b[39m+\u001b[39m\u001b[39m'\u001b[39m\u001b[39m not found.\u001b[39m\u001b[39m'\u001b[39m)\n\u001b[1;32m    878\u001b[0m \u001b[39mreturn\u001b[39;00m full_file_name, image_dir, use_sample\n",
      "\u001b[0;31mOSError\u001b[0m: data/COSMOS_23.5_training_sample/real_galaxy_catalog_23.5.fits not found."
     ]
    }
   ],
   "source": [
    "# Initialize catalog\n",
    "cosmos_dir = 'data/COSMOS_23.5_training_sample/' # path to your COSMOS data\n",
    "real_galaxy_catalog = galsim.RealGalaxyCatalog(dir=cosmos_dir, sample=\"23.5\")\n",
    "\n",
    "# Pick a galaxy\n",
    "i = 4 # randomly select a galaxy\n",
    "gal_ori_image = real_galaxy_catalog.getGalImage(i)\n",
    "psf_ori_image = real_galaxy_catalog.getPSFImage(i)\n",
    "\n",
    "# Visulaize galaxy & PSF in COSMOS data\n",
    "plt.figure(i,figsize=(10,6))\n",
    "plt.subplot(1,2,1)\n",
    "plt.imshow(psf_ori_image.array)\n",
    "plt.title('PSF', fontsize=16)\n",
    "plt.subplot(1,2,2)\n",
    "plt.imshow(gal_ori_image.array) \n",
    "plt.title('Galaxy', fontsize=16)"
   ]
  },
  {
   "cell_type": "markdown",
   "metadata": {},
   "source": [
    "### Simulate Point Spread Function\n",
    "\n",
    "**Point Spread Function (PSF)** is the most crucial component in image simulation. In our image formation model, we assume the PSF consists of two components caused by the atmospheric turbulence and the optical structure respectively of the telescope to approximate a typical ground-based obseravtion, i.e. the overall PSF is the convolution of the two components:\n",
    "$\\begin{equation} PSF = PSF_{atmos} \\otimes PSF_{opticl} \\end{equation}$\n"
   ]
  },
  {
   "cell_type": "code",
   "execution_count": null,
   "metadata": {},
   "outputs": [],
   "source": [
    "random_seed = 91374 # randomly choose a seed for the rng\n",
    "rng = galsim.UniformDeviate(seed=random_seed) # Initialize the random number generator\n",
    "psf_flux = 1.e5\n",
    "seeing = 0.7                        # FWHM of the Kolmogorov function\n",
    "atmos_max_shear = 0.2\n",
    "rng_gaussian = galsim.GaussianDeviate(seed=random_seed, mean=seeing, sigma=0.18)\n",
    "atmos_fwhm = 0                      # arcsec (mean 0.7 for LSST)\n",
    "while atmos_fwhm < 0.35 or atmos_fwhm > 1.1: # sample fwhm\n",
    "    atmos_fwhm = rng_gaussian()\n",
    "atmos_e = rng() * atmos_max_shear   # ellipticity of atmospheric PSF\n",
    "atmos_beta = 2. * np.pi * rng()     # radians\n",
    "atmos_g1 = atmos_e * np.cos(atmos_beta)\n",
    "atmos_g2 = atmos_e * np.sin(atmos_beta)\n",
    "opt_defocus = 0.3 + 0.4 * rng()     # wavelengths\n",
    "opt_a1 = 2*0.5*(rng() - 0.5)        # wavelengths (-0.29)\n",
    "opt_a2 = 2*0.5*(rng() - 0.5)        # wavelengths (0.12)\n",
    "opt_c1 = 2*1.*(rng() - 0.5)         # wavelengths (0.64)\n",
    "opt_c2 = 2*1.*(rng() - 0.5)         # wavelengths (-0.33)\n",
    "opt_obscuration = 0.165             # linear scale size of secondary mirror obscuration $(3.4/8.36)^2$\n",
    "lam = 700                           # nm    NB: don't use lambda - that's a reserved word.\n",
    "tel_diam = 8.36                     # telescope diameter / meters (8.36 for LSST)\n",
    "read_noise = 9. # CCD read noise / e-\n",
    "gain = 0.34 # CCD gain / e-/ADU"
   ]
  },
  {
   "cell_type": "markdown",
   "metadata": {},
   "source": [
    "Now we can simulate the two PSF components respectively and convolve them together. We used the Kolmogorov function to simulate the atmospheric PSF while the optical component is an aberrated PSF caused by telescope optics."
   ]
  },
  {
   "cell_type": "code",
   "execution_count": null,
   "metadata": {},
   "outputs": [],
   "source": [
    "# Atmospheric component\n",
    "atmos = galsim.Kolmogorov(fwhm=atmos_fwhm, flux=1) # Note: the flux here is the default flux=1.\n",
    "atmos = atmos.shear(e=atmos_e, beta=atmos_beta*galsim.radians)\n",
    "\n",
    "# Optical component\n",
    "lam_over_diam = lam * 1.e-9 / tel_diam # radians\n",
    "lam_over_diam *= 206265  # arcsec\n",
    "optics = galsim.OpticalPSF( lam_over_diam,\n",
    "                        defocus = opt_defocus,\n",
    "                        coma1 = opt_c1, coma2 = opt_c2,\n",
    "                        astig1 = opt_a1, astig2 = opt_a2,\n",
    "                        obscuration = opt_obscuration,\n",
    "                        flux=1)\n",
    "\n",
    "# Convolve the two components\n",
    "psf = galsim.Convolve([atmos, optics], real_space=True)"
   ]
  },
  {
   "cell_type": "markdown",
   "metadata": {},
   "source": [
    "### Simulate Observed Galaxy\n",
    "\n",
    "First, we need to choose the parameters for the galaxy."
   ]
  },
  {
   "cell_type": "code",
   "execution_count": null,
   "metadata": {},
   "outputs": [],
   "source": [
    "sky_level = 2.5e4                   # ADU / arcsec^2\n",
    "gal_flux = 1.e5                     # arbitrary choice, makes nice (not too) noisy images\n",
    "gal_max_shear = 0.5                 # maximum ellipticity for the galaxy\n",
    "gal_e = rng() * gal_max_shear       # shear of galaxy\n",
    "gal_beta = 2. * np.pi * rng()       # radians\n",
    "gal_g1 = gal_e * np.cos(gal_beta)\n",
    "gal_g2 = gal_e * np.sin(gal_beta)\n",
    "gal_mu = 1 + rng() * 0.1            # mu = ((1-kappa)^2 - g1^2 - g2^2)^-1 (1.082)\n",
    "theta = 2. * np.pi * rng()          # radians"
   ]
  },
  {
   "cell_type": "markdown",
   "metadata": {},
   "source": [
    "We initialize a RealGalaxy object with the real galaxy we chose in the COSMOS catalog."
   ]
  },
  {
   "cell_type": "code",
   "execution_count": null,
   "metadata": {},
   "outputs": [],
   "source": [
    "gal_ori = galsim.RealGalaxy(real_galaxy_catalog, index = i, flux = gal_flux)\n",
    "psf_ori = real_galaxy_catalog.getPSF(i)\n",
    "gal_ori = galsim.Convolve([psf_ori, gal_ori]) # concolve wth original PSF of HST"
   ]
  },
  {
   "cell_type": "markdown",
   "metadata": {},
   "source": [
    "Now we randomly rotate, shear and magnify the galaxy to simulated a real galaxy twisted by weak lensing effects. Finally we convolve the galaxy PSF to obtain a galaxy image that reaches the detector real obseravtion."
   ]
  },
  {
   "cell_type": "code",
   "execution_count": null,
   "metadata": {},
   "outputs": [],
   "source": [
    "gal = gal_ori.rotate(theta * galsim.radians) # Rotate by a random angle\n",
    "gal = gal.shear(e=gal_e, beta=gal_beta * galsim.radians) # Apply the desired shear\n",
    "gal = gal.magnify(gal_mu) # Also apply a magnification mu = ( (1-kappa)^2 - |gamma|^2 )^-1, this conserves surface brightness, so it scales both the area and flux.\n",
    "\n",
    "final = galsim.Convolve([psf, gal]) # Make the combined profile"
   ]
  },
  {
   "cell_type": "markdown",
   "metadata": {},
   "source": [
    "### Draw and Plot Images"
   ]
  },
  {
   "cell_type": "code",
   "execution_count": null,
   "metadata": {},
   "outputs": [],
   "source": [
    "img_size = (48,48)\n",
    "pixel_scale = 0.2\n",
    "\n",
    "# Offset by up to 1/2 pixel in each direction\n",
    "dx = rng() - 0.5\n",
    "dy = rng() - 0.5"
   ]
  },
  {
   "cell_type": "markdown",
   "metadata": {},
   "source": []
  },
  {
   "cell_type": "code",
   "execution_count": null,
   "metadata": {},
   "outputs": [],
   "source": [
    "obs = galsim.ImageF(img_size[0], img_size[1])\n",
    "final.drawImage(obs, scale=pixel_scale, offset=(dx,dy), method='auto')\n",
    "gal_image = galsim.ImageF(img_size[0], img_size[1])\n",
    "gal.drawImage(gal_image, scale=pixel_scale, offset=(dx,dy), method='auto')\n",
    "psf_image = galsim.ImageF(img_size[0]-1, img_size[1]-1)\n",
    "psf.drawImage(psf_image, scale=pixel_scale, offset=(dx,dy), method='auto')\n",
    "\n",
    "gal_image += sky_level * (pixel_scale**2)\n",
    "obs += sky_level * (pixel_scale**2) # Add a constant background level\n",
    "obs.addNoise(galsim.CCDNoise(rng, gain=gain, read_noise=read_noise)) # add noise for observation\n",
    "psf_image += psf_image*psf_flux + sky_level * (pixel_scale**2) # Add a constant background level\n",
    "psf_image.addNoise(galsim.CCDNoise(rng, gain=gain, read_noise=read_noise)) # add noise for observation"
   ]
  },
  {
   "cell_type": "markdown",
   "metadata": {},
   "source": [
    "Finally we can visualize our simulated galaxy."
   ]
  },
  {
   "cell_type": "code",
   "execution_count": null,
   "metadata": {},
   "outputs": [],
   "source": [
    "# Visualization\n",
    "plt.figure(figsize=(10,10))\n",
    "plt.subplot(2,2,1)\n",
    "plt.imshow(gal_ori_image.array)\n",
    "plt.title('Original Galaxy')\n",
    "plt.subplot(2,2,2)\n",
    "plt.imshow(gal_image.array)\n",
    "plt.title('Sheared Galaxy\\n($e_1={:.3f}$, $e_2={:.3f}$)'.format(gal_g1, gal_g2))\n",
    "plt.subplot(2,2,3)\n",
    "plt.imshow(psf_image.array)\n",
    "plt.title('PSF\\n($e_1={:.3f}$, $e_2={:.3f}$, FWHM={:.2f})'.format(atmos_g1, atmos_g2, atmos_fwhm))\n",
    "plt.subplot(2,2,4)\n",
    "plt.imshow(obs.array)\n",
    "plt.title('Observed Galaxy')"
   ]
  }
 ],
 "metadata": {
  "kernelspec": {
   "display_name": "Python 3.8.12 ('astro')",
   "language": "python",
   "name": "python3"
  },
  "language_info": {
   "codemirror_mode": {
    "name": "ipython",
    "version": 3
   },
   "file_extension": ".py",
   "mimetype": "text/x-python",
   "name": "python",
   "nbconvert_exporter": "python",
   "pygments_lexer": "ipython3",
   "version": "3.8.12"
  },
  "orig_nbformat": 4,
  "vscode": {
   "interpreter": {
    "hash": "5b961726f24694b6f17f740f2c5030ec25616772daf73a312ff6748a00a3f54b"
   }
  }
 },
 "nbformat": 4,
 "nbformat_minor": 2
}
