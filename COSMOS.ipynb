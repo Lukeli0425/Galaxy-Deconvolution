{
 "cells": [
  {
   "cell_type": "markdown",
   "metadata": {},
   "source": [
    "## Image Simluation with COSMOS Real galaxy Dataset\n",
    "\n",
    "This notebook is the tutorial of galaxy image simulatuion. "
   ]
  },
  {
   "cell_type": "code",
   "execution_count": 9,
   "metadata": {},
   "outputs": [],
   "source": [
    "import os\n",
    "import numpy\n",
    "import matplotlib.pyplot as plt\n",
    "import galsim\n",
    "import fpfs\n",
    "\n",
    "%matplotlib inline"
   ]
  },
  {
   "cell_type": "markdown",
   "metadata": {},
   "source": [
    "### Read in galaxy from real galaxy catalog"
   ]
  },
  {
   "cell_type": "code",
   "execution_count": 10,
   "metadata": {},
   "outputs": [],
   "source": [
    "cosmos_dir = './data/COSMOS_23.5_training_sample/'\n",
    "real_galaxy_catalog = galsim.RealGalaxyCatalog(dir=cosmos_dir, sample=\"23.5\")"
   ]
  }
 ],
 "metadata": {
  "kernelspec": {
   "display_name": "Python 3.8.12 ('astro')",
   "language": "python",
   "name": "python3"
  },
  "language_info": {
   "codemirror_mode": {
    "name": "ipython",
    "version": 3
   },
   "file_extension": ".py",
   "mimetype": "text/x-python",
   "name": "python",
   "nbconvert_exporter": "python",
   "pygments_lexer": "ipython3",
   "version": "3.8.12"
  },
  "orig_nbformat": 4,
  "vscode": {
   "interpreter": {
    "hash": "5b961726f24694b6f17f740f2c5030ec25616772daf73a312ff6748a00a3f54b"
   }
  }
 },
 "nbformat": 4,
 "nbformat_minor": 2
}
