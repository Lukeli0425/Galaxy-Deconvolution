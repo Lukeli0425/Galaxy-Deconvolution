{
 "cells": [
  {
   "cell_type": "code",
   "execution_count": 1,
   "id": "c71c0d4b",
   "metadata": {},
   "outputs": [],
   "source": [
    "import os\n",
    "from skimage import io\n",
    "import gc\n",
    "import time\n",
    "import fpfs\n",
    "import numpy as np\n",
    "import matplotlib.pyplot as plt\n",
    "import numpy.lib.recfunctions as rfn\n",
    "\n",
    "%matplotlib inline"
   ]
  },
  {
   "cell_type": "code",
   "execution_count": 4,
   "id": "feb73f86",
   "metadata": {},
   "outputs": [],
   "source": [
    "idx = 0\n",
    "gal_path = './dataset/COSMOS_23.5/obs/'\n",
    "gal = io.imread(os.path.join(gal_path, f\"obs_23.5_{idx}.tiff\"))\n",
    "psf = np.zeros(gal.shape)\n",
    "psf[int(gal.shape[0]/2), int(gal.shape[1]/2)] = 1\n",
    "\n",
    "fpTask = fpfs.fpfsBase.fpfsTask(psf, beta=0.75)\n",
    "modes = fpTask.measure(gal)"
   ]
  }
 ],
 "metadata": {
  "kernelspec": {
   "display_name": "Python 3.8.12 ('astro')",
   "language": "python",
   "name": "python3"
  },
  "language_info": {
   "codemirror_mode": {
    "name": "ipython",
    "version": 3
   },
   "file_extension": ".py",
   "mimetype": "text/x-python",
   "name": "python",
   "nbconvert_exporter": "python",
   "pygments_lexer": "ipython3",
   "version": "3.8.12"
  },
  "orig_nbformat": 4,
  "vscode": {
   "interpreter": {
    "hash": "5b961726f24694b6f17f740f2c5030ec25616772daf73a312ff6748a00a3f54b"
   }
  }
 },
 "nbformat": 4,
 "nbformat_minor": 2
}
