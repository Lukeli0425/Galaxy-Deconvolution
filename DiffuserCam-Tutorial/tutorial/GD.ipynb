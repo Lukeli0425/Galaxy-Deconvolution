{
 "cells": [
  {
   "cell_type": "markdown",
   "metadata": {},
   "source": [
    "### Gradient Descent and FISTA"
   ]
  },
  {
   "cell_type": "markdown",
   "metadata": {},
   "source": [
    "$\\renewcommand\\measurementvec{\\mathbf{b}}\n",
    "\\renewcommand\\measurementmtx{\\mathbf{A}}\n",
    "\\renewcommand\\imagevec{\\mathbf{v}}\n",
    "\\renewcommand\\psf{\\mathbf{h}}\n",
    "\\renewcommand{\\crop}{\\mathbf{C}}\n",
    "\\renewcommand\\full{\\mathbf{A}}\n",
    "\\renewcommand{\\ftpsf}{\\mathbf{H}}$\n",
    "Gradient descent is an iterative algorithm that finds the minimum of a convex function by following the slope \"downhill\" until it reaches a minimum. To solve the minimization problem\n",
    "\\begin{equation*}\n",
    "    \\operatorname{minimize} g(\\mathbf{x}),\n",
    "\\end{equation*}\n",
    "we find the gradient of $g$ wrt $\\mathbf{x}$, $\\nabla_\\mathbf{x} g$, and use the property that the gradient always points in the direction of steepest _ascent_. In order to minimize $g$, we go the other direction:\n",
    "$$\\begin{align*}\n",
    "    \\mathbf{x}_0 &= \\text{ initial guess} \\\\\n",
    "    \\mathbf{x}_{k+1} &\\leftarrow \\mathbf{x}_k - \\alpha_k \\nabla g(\\mathbf{x}_k),\n",
    "\\end{align*}$$\n",
    "where $\\alpha$ is a step size that determines how far in the descent direction we go at each iteration.\n",
    "\n",
    "Applied to our problem:\n",
    "$$\\begin{align*}\n",
    "    g(\\imagevec) &= \\frac{1}{2} \\|\\full\\imagevec- \\measurementvec \\|_2^2 \\\\\n",
    "    \\nabla_\\imagevec g(\\imagevec) &= \\full^H (\\full\\imagevec-\\measurementvec),\n",
    "\\end{align*}$$\n",
    "where $\\full^H$ is the adjoint of $\\full$, $\\measurementvec$ is the sensor measurement and $\\imagevec$ is the image of the scene.\n",
    "\n",
    "We use more efficient variants of this algorithm, like Nesterov Momentum and FISTA, both of which are shown below. \n",
    "\n"
   ]
  },
  {
   "cell_type": "markdown",
   "metadata": {},
   "source": [
    "#### Loading and preparing our images"
   ]
  },
  {
   "cell_type": "code",
   "execution_count": 1,
   "metadata": {},
   "outputs": [],
   "source": [
    "import numpy as np\n",
    "import numpy.fft as fft\n",
    "import matplotlib.pyplot as plt\n",
    "from IPython import display\n",
    "from PIL import Image\n",
    "\n",
    "%matplotlib inline"
   ]
  },
  {
   "cell_type": "markdown",
   "metadata": {},
   "source": [
    "The code takes in two grayscale images: a point spread function (PSF) $\\texttt{psfname}$ and a sensor measurement $\\texttt{imgname}$. The images can be downsampled by a factor $f$, which must be a of the form $1/{2^k}$, for some non negative integer $k$ (typically between 1/2 and 1/8). "
   ]
  },
  {
   "cell_type": "code",
   "execution_count": 2,
   "metadata": {},
   "outputs": [],
   "source": [
    "psfname = \"./psf_sample.tif\"\n",
    "imgname = \"./rawdata_hand_sample.tif\"\n",
    "\n",
    "# Downsampling factor (used to shrink images)\n",
    "f = 1/8 \n",
    "\n",
    "# Number of iterations\n",
    "iters = 100"
   ]
  },
  {
   "cell_type": "code",
   "execution_count": 3,
   "metadata": {},
   "outputs": [],
   "source": [
    "def loaddata(show_im=True):\n",
    "    psf = Image.open(psfname)\n",
    "    psf = np.array(psf, dtype='float32')\n",
    "    data = Image.open(imgname)\n",
    "    data = np.array(data, dtype='float32')\n",
    "    \n",
    "    \"\"\"In the picamera, there is a non-trivial background \n",
    "    (even in the dark) that must be subtracted\"\"\"\n",
    "    bg = np.mean(psf[5:15,5:15]) \n",
    "    psf -= bg\n",
    "    data -= bg\n",
    "    \n",
    "    \"\"\"Resize to a more manageable size to do reconstruction on. \n",
    "    Because resizing is downsampling, it is subject to aliasing \n",
    "    (artifacts produced by the periodic nature of sampling). Demosaicing is an attempt\n",
    "    to account for/reduce the aliasing caused. In this application, we do the simplest\n",
    "    possible demosaicing algorithm: smoothing/blurring the image with a box filter\"\"\"\n",
    "    \n",
    "    def resize(img, factor):\n",
    "        num = int(-np.log2(factor))\n",
    "        for i in range(num):\n",
    "            img = 0.25*(img[::2,::2,...]+img[1::2,::2,...]+img[::2,1::2,...]+img[1::2,1::2,...])\n",
    "        return img    \n",
    "    \n",
    "    psf = resize(psf, f)\n",
    "    data = resize(data, f)\n",
    "    \n",
    "    \n",
    "    \"\"\"Now we normalize the images so they have the same total power. Technically not a\n",
    "    necessary step, but the optimal hyperparameters are a function of the total power in \n",
    "    the PSF (among other things), so it makes sense to standardize it\"\"\"\n",
    "    \n",
    "    psf /= np.linalg.norm(psf.ravel())\n",
    "    data /= np.linalg.norm(data.ravel())\n",
    "    \n",
    "    if show_im:\n",
    "        fig1 = plt.figure()\n",
    "        plt.imshow(psf, cmap='gray')\n",
    "        plt.title('PSF')\n",
    "        display.display(fig1)\n",
    "        fig2 = plt.figure()\n",
    "        plt.imshow(data, cmap='gray')\n",
    "        plt.title('Raw data')\n",
    "        display.display(fig2)\n",
    "    return psf, data\n",
    "    "
   ]
  },
  {
   "cell_type": "markdown",
   "metadata": {},
   "source": [
    "### Calculating convolutions using $\\texttt{fft}$\n",
    "We want to calculate convolutions efficiently. To do this, we use the \"fast fourier transform\" $\\texttt{fft2}$ which computes the Discrete Fourier Transform (DFT). The convolution theorem for DFTs only holds for circular convolutions. We can still recover a linear convolution by first padding the input images then cropping the output of the inverse DFT:\n",
    "\\begin{equation}\n",
    "h*x=\\mathcal{F}^{-1}[\\mathcal{F}[h]\\cdot\\mathcal{F}[x]] = \\texttt{crop}\\left[\\ \\texttt{DFT}^{-1}\\left\\{\\ \\texttt{DFT} [\\ \\texttt{pad}[h]\\ ]\\cdot\\texttt{DFT}[\\ \\texttt{pad}[x]\\ ]\\ \\right\\} \\ \\right]\n",
    "\\end{equation}\n",
    "\n",
    "Recovering the linear convolution correctly requires that we double the dimensions of our images. To take full advantage of the speed of the $\\texttt{fft2}$ algorithm, we actually pad $\\texttt{full_size}$, which is the nearest power of two that is larger than that size.\n",
    "\n",
    "We have chosen $\\texttt{full_size}$ in such a way that it provides enough padding to make circular and linear convolutions look the same <i>after being cropped back down to</i> $\\texttt{sensor_size}$. That way, the \"sensor crop\" due to the sensor's finite size and the \"fft crop\" above are the same, and we just need one crop function."
   ]
  },
  {
   "cell_type": "markdown",
   "metadata": {},
   "source": [
    "Along with initialization, we compute $\\texttt{H} = \\texttt{fft2}(\\texttt{hpad})$ and $\\texttt{Hadj} = \\texttt{H}^*$, which are constant matrices that will be needed to calculate the action of $\\measurementmtx$ and $\\measurementmtx^H$ at every iteration. "
   ]
  },
  {
   "cell_type": "markdown",
   "metadata": {},
   "source": [
    "Lastly, we must take into account one more practical difference. In imaging, we often treat the center of the image as the origin of the coordinate system. This is theoretically convenient, but fft algorithms assume the origin of the image is the top left pixel. The magnitude of the fft doesn't change because of this distinction, but the phase does, since it is sensitive to shifts in real space. An example with the simplest function, a delta function, is displayed below. In order to correct this problem, we use $\\texttt{ifftshift}$ to move the origin of an image to the top left corner and $\\texttt{fftshift}$ to move the origin from the top left corner to the center. "
   ]
  },
  {
   "cell_type": "code",
   "execution_count": 4,
   "metadata": {},
   "outputs": [
    {
     "data": {
      "image/png": "[encoded data removed]",
      "text/plain": [
       "<Figure size 432x288 with 3 Axes>"
      ]
     },
     "metadata": {
      "needs_background": "light"
     },
     "output_type": "display_data"
    },
    {
     "data": {
      "image/png": "[encoded data removed]",
      "text/plain": [
       "<Figure size 432x288 with 3 Axes>"
      ]
     },
     "metadata": {
      "needs_background": "light"
     },
     "output_type": "display_data"
    }
   ],
   "source": [
    "def no_shift():\n",
    "    delta = np.zeros((5,5))\n",
    "    delta[2][2] = 1\n",
    "    fft_mag = np.abs(fft.fft2(delta))\n",
    "    fft_arg = np.angle(fft.fft2(delta))\n",
    "    \n",
    "    fig, ax = plt.subplots(nrows=1, ncols=3)\n",
    "    fig.tight_layout()\n",
    "    ax[0].imshow(delta, cmap='gray')\n",
    "    ax[0].set_title('Delta function in \\n real space')\n",
    "\n",
    "    ax[1].imshow(fft_mag,vmin=-3,vmax=3,cmap='gray')\n",
    "    ax[1].set_title('Magnitude of FT of \\n a delta function')\n",
    "    \n",
    "    ax[2].imshow(fft_arg,vmin=-3,vmax=3,cmap='gray')\n",
    "    ax[2].set_title('Phase of FT of \\n delta function')\n",
    "    \n",
    "no_shift()   \n",
    "\n",
    "def shift():\n",
    "    delta = np.zeros((5,5))\n",
    "    delta[2][2] = 1\n",
    "    delta_shifted = fft.ifftshift(delta)\n",
    "    fft_mag = np.abs(fft.fft2(delta_shifted))\n",
    "    fft_arg = np.angle(fft.fft2(delta_shifted))\n",
    "    \n",
    "    fig2, ax2 = plt.subplots(nrows=1, ncols=3)\n",
    "    fig2.tight_layout()\n",
    "    ax2[0].imshow(delta_shifted, cmap='gray')\n",
    "    ax2[0].set_title('Delta function shifted in \\n real space')\n",
    "\n",
    "    ax2[1].imshow(fft_mag,vmin=-3,vmax=3,cmap='gray')\n",
    "    ax2[1].set_title('Magnitude of FT of a \\n shifted delta function')\n",
    "    \n",
    "    ax2[2].imshow(fft_arg,vmin=-3,vmax=3,cmap='gray')\n",
    "    ax2[2].set_title('Phase of FT of a \\n shifted delta function')\n",
    "    \n",
    "shift()"
   ]
  },
  {
   "cell_type": "markdown",
   "metadata": {},
   "source": [
    "For this notebook and the ADMM notebook, we follow the following convention so we don't have to worry about this issue again:\n",
    "1. All images in _real_ space are stored with the origin in the center (so they can be displayed correctly)\n",
    "2. All images in _Fourier_ space are stored with the origin in the top left corner (so they can be used for processing correctly)\n",
    "3. The above rules mean that, to perform a convolution between two real space images $h$ and $x$, we do $$\\texttt{fftshift}( \\texttt{ifft} [\\texttt{fft}[ \\texttt{ifftshift}(h) \\cdot \\texttt{ifftshift}(x) ] ] )$$ instead of $$\\texttt{ifft}[\\texttt{fft}[h \\cdot x]]$$\n",
    "The rules imply that if we store the fourier transform of $h$ for future use, instead of storing $\\texttt{fft}[h]$, we store $\\texttt{fft}[\\texttt{ifftshift}(h)]$."
   ]
  },
  {
   "cell_type": "code",
   "execution_count": 5,
   "metadata": {},
   "outputs": [],
   "source": [
    "def initMatrices(h):\n",
    "    pixel_start = (np.max(h) + np.min(h))/2\n",
    "    x = np.ones(h.shape)*pixel_start\n",
    "\n",
    "    init_shape = h.shape\n",
    "    padded_shape = [nextPow2(2*n - 1) for n in init_shape]\n",
    "    starti = (padded_shape[0]- init_shape[0])//2\n",
    "    endi = starti + init_shape[0]\n",
    "    startj = (padded_shape[1]//2) - (init_shape[1]//2)\n",
    "    endj = startj + init_shape[1]\n",
    "    hpad = np.zeros(padded_shape)\n",
    "    hpad[starti:endi, startj:endj] = h\n",
    "\n",
    "    H = fft.fft2(fft.ifftshift(hpad), norm=\"ortho\")\n",
    "    Hadj = np.conj(H)\n",
    "\n",
    "    def crop(X):\n",
    "        return X[starti:endi, startj:endj]\n",
    "\n",
    "    def pad(v):\n",
    "        vpad = np.zeros(padded_shape).astype(np.complex64)\n",
    "        vpad[starti:endi, startj:endj] = v\n",
    "        return vpad\n",
    "\n",
    "    utils = [crop, pad]\n",
    "    v = np.real(pad(x))\n",
    "    \n",
    "    return H, Hadj, v, utils\n",
    "\n",
    "def nextPow2(n):\n",
    "    return int(2**np.ceil(np.log2(n)))"
   ]
  },
  {
   "cell_type": "markdown",
   "metadata": {},
   "source": [
    "#### Computing the gradient"
   ]
  },
  {
   "cell_type": "markdown",
   "metadata": {},
   "source": [
    "The most important step in Gradient Descent is calculating the gradient\n",
    "$$ \\nabla_\\imagevec \\  g(\\imagevec) = \\full^H (\\full\\imagevec-\\measurementvec)$$\n",
    "We do this in 2 steps:\n",
    "1. We compute the action of $\\full$ on $\\imagevec$, using $\\texttt{calcA}$\n",
    "2. We compute the action of $\\full^H$ on $\\texttt{diff} = \\texttt{Av-b}$ using $\\texttt{calcAHerm}$ <br/>\n",
    "\n",
    "Here, $\\texttt{vk}$ is the current padded estimate of the scene and $\\texttt{b}$ is the sensor measurement.\n"
   ]
  },
  {
   "cell_type": "code",
   "execution_count": 6,
   "metadata": {},
   "outputs": [],
   "source": [
    "def grad(Hadj, H, vk, b, crop, pad):\n",
    "    Av = calcA(H, vk, crop)\n",
    "    diff = Av - b\n",
    "    return np.real(calcAHerm(Hadj, diff, pad))"
   ]
  },
  {
   "cell_type": "markdown",
   "metadata": {},
   "source": [
    "We write $\\full$ as:\n",
    "$$ \\full\\imagevec \\iff \\mathrm{crop} \\left[ \\mathcal{F}^{-1} \\left\\{\\mathcal{F}(h) \\cdot \\mathcal{F}(v)\\right\\} \\right]$$\n",
    "In code, this becomes\n",
    "\\begin{align*} \n",
    "\\texttt{calcA}(\\texttt{vk}) & = \\texttt{crop}\\ (\\texttt{ifft}\\ (\\texttt{fft}(\\texttt{hpad}) \\cdot \\texttt{fft}(\\texttt{vk})\\ )\\  )\\\\\n",
    "& = \\texttt{crop}\\ (\\texttt{ifft}\\ (\\texttt{H} \\cdot \\texttt{Vk}))\n",
    "\\end{align*}\n",
    "where $\\cdot$ represents point-wise multiplication"
   ]
  },
  {
   "cell_type": "code",
   "execution_count": 7,
   "metadata": {},
   "outputs": [],
   "source": [
    "def calcA(H, vk, crop):\n",
    "    Vk = fft.fft2(fft.ifftshift(vk))\n",
    "    return crop(fft.fftshift(fft.ifft2(H*Vk)))"
   ]
  },
  {
   "cell_type": "markdown",
   "metadata": {},
   "source": [
    "We first pad $\\texttt{diff}$ , giving us $\\texttt{xpad}$, then we take the 2D fourier transform, $\\texttt{X} = \\mathcal{F}(\\texttt{xpad})$. The action of the adjoint of $A$ is\n",
    "\n",
    "$$ A^H \\mathbf{x} \\iff \\mathcal{F}^{-1} \\left\\{ \\mathcal{F}(\\psf)^* \\cdot \\mathcal{F}( \\operatorname{pad}\\left[x\\right]) \\right\\}$$\n",
    "This becomes\n",
    "\\begin{align*}\n",
    "\\texttt{calcAHerm}(\\texttt{xk}) &= \\texttt{ifft}\\ (\\ (\\texttt{fft}(\\texttt{h}))^H \\cdot \\texttt{fft}\\ (\\texttt{pad}(\\texttt{diff}))\\ ) \\\\\n",
    "& = \\texttt{ifft}\\ (\\texttt{Hadj} \\cdot \\texttt{X})\n",
    "\\end{align*}"
   ]
  },
  {
   "cell_type": "code",
   "execution_count": 8,
   "metadata": {},
   "outputs": [],
   "source": [
    "def calcAHerm(Hadj, diff, pad):\n",
    "    xpad = pad(diff)\n",
    "    X = fft.fft2(fft.ifftshift(xpad))\n",
    "    return fft.fftshift(fft.ifft2(Hadj*X))"
   ]
  },
  {
   "cell_type": "markdown",
   "metadata": {},
   "source": [
    "#### Putting it all together"
   ]
  },
  {
   "cell_type": "markdown",
   "metadata": {},
   "source": [
    "This is the main function, which calculates the gradients and updates our estimation of the scene:\n",
    "\\begin{align*}\n",
    "    &\\imagevec_0 = \\text{ anything} \\\\\n",
    "    &\\text{for } k = 0 \\text{ to num_iters:}\\\\\n",
    "    &\\quad \\quad \\imagevec_{k+1} \\leftarrow \\texttt{gradient_update}(\\imagevec_k) \\\\\n",
    "\\end{align*} \n",
    "\n",
    "There are different ways of doing the gradient update. The three we will show are regular GD, Nesterov momentum update, and FISTA.\n",
    "\n",
    "To guarantee convergence, we set the step size to be \n",
    "\\begin{align*} \n",
    "\\alpha_k &< \\frac{2}{\\|\\measurementmtx^H \\measurementmtx\\|}_2 \\approx \\frac{2}{\\lambda_{max}(\\mathbf{M}^H\\mathbf{M})}\n",
    "\\end{align*}\n",
    "\n",
    "To calculate this, we use the property that $\\mathbf{M}$ is diagonalizable by a Fourier Transform:\n",
    "$$\\begin{align*}\n",
    "\\mathbf{M}^H\\mathbf{M} &= \\left(\\mathbf{F}^{-1} \\mathrm{diag}(\\mathbf{Fh}) \\ \\mathbf{F}\\right)^H \\ \\mathbf{F}^{-1} \\mathrm{diag}(\\mathbf{Fh}) \\ \\mathbf{F} \\\\\n",
    "&= \\mathbf{F}^{-1} \\mathrm{diag}(\\mathbf{Fh})^* \\ \\mathrm{diag}(\\mathbf{Fh}) \\ \\mathbf{F} \\\\\n",
    "\\lambda_{max}(\\mathbf{M}^H\\mathbf{M}) &= \\max \\left(\\mathrm{diag}(\\mathbf{Fh})^* \\ \\mathrm{diag}(\\mathbf{Fh}) \\right)\n",
    "\\end{align*}$$\n",
    "In code, we have\n",
    "\\begin{align*}\n",
    "\\alpha = \\frac{1.8}{\\texttt{max} \\left(\\texttt{Hadj} \\cdot \\texttt{H}\\right)}\n",
    "\\end{align*}\n",
    "\n",
    "\n",
    "Since we are dealing with images, one constraint on the reconstructed image $\\imagevec_k$ is that all the entries have to be non-negative. We do this by doing projected gradient descent. The projection function $\\texttt{proj}$ we use is non-negativity, which  projects $\\texttt{vk}$ onto the non-negative halfspace.  "
   ]
  },
  {
   "cell_type": "code",
   "execution_count": 9,
   "metadata": {},
   "outputs": [],
   "source": [
    "def grad_descent(h, b):\n",
    "    H, Hadj, v, utils = initMatrices(h)\n",
    "    crop = utils[0]\n",
    "    pad = utils[1]\n",
    "        \n",
    "    alpha = np.real(1.8/(np.max(Hadj * H)))\n",
    "    iterations = 0\n",
    "     \n",
    "    def non_neg(xi):\n",
    "        xi = np.maximum(xi,0)\n",
    "        return xi\n",
    "    \n",
    "    #proj = lambda x:x #Do no projection\n",
    "    proj = non_neg #Enforce nonnegativity at every gradient step. Comment out as needed.\n",
    "\n",
    "\n",
    "    parent_var = [H, Hadj, b, crop, pad, alpha, proj]\n",
    "    \n",
    "    vk = v\n",
    "    \n",
    "    \n",
    "    \n",
    "    #### uncomment for Nesterov momentum update ####   \n",
    "    #p = 0\n",
    "    #mu = 0.9\n",
    "    ################################################\n",
    "    \n",
    "    \n",
    "    \n",
    "    #### uncomment for FISTA update ################\n",
    "    tk = 1\n",
    "    xk = v\n",
    "    ################################################\n",
    "        \n",
    "    for iterations in range(iters):   \n",
    "        \n",
    "        # uncomment for regular GD update\n",
    "        #vk = gd_update(vk, parent_var)\n",
    "        \n",
    "        # uncomment for Nesterov momentum update \n",
    "        #vk, p = nesterov_update(vk, p, mu, parent_var)\n",
    "        \n",
    "        # uncomment for FISTA update\n",
    "        vk, tk, xk = fista_update(vk, tk, xk, parent_var)\n",
    "\n",
    "        if iterations % 10 == 0:\n",
    "            image = proj(crop(vk))\n",
    "            f = plt.figure(1)\n",
    "            plt.imshow(image, cmap='gray')\n",
    "            plt.title('Reconstruction after iteration {}'.format(iterations))\n",
    "            display.display(f)\n",
    "            display.clear_output(wait=True)\n",
    "    \n",
    "    \n",
    "    return proj(crop(vk)) \n",
    "    "
   ]
  },
  {
   "cell_type": "markdown",
   "metadata": {},
   "source": [
    "#### Gradient descent algorithms"
   ]
  },
  {
   "cell_type": "markdown",
   "metadata": {},
   "source": [
    "##### Regular Gradient Descent\n",
    "Regular gradient descent is simply following the negative of the gradient until we reach the minimum:\n",
    "\n",
    "\\begin{align*}\n",
    "    & \\texttt{gradient_update}(\\imagevec_k): \\\\\n",
    "    &\\quad \\quad\\imagevec'_{k+1} \\leftarrow \\imagevec_k - \\alpha_k \\full^H(\\full\\imagevec_k - \\measurementvec) \\\\\n",
    "    &\\quad \\quad \\imagevec_{k+1} \\leftarrow \\operatorname{proj}_{\\imagevec \\geq 0} (\\imagevec_{k+1}')\n",
    "\\end{align*} "
   ]
  },
  {
   "cell_type": "code",
   "execution_count": 10,
   "metadata": {},
   "outputs": [],
   "source": [
    "def gd_update(vk, parent_var):\n",
    "    H, Hadj, b, crop, pad, alpha, proj = parent_var\n",
    "    \n",
    "    gradient = grad(Hadj, H, vk, b, crop, pad)\n",
    "    vk -= alpha*gradient\n",
    "    vk = proj(vk)\n",
    "    \n",
    "    return xk    "
   ]
  },
  {
   "cell_type": "markdown",
   "metadata": {},
   "source": [
    "##### Nesterov Momentum\n",
    "GD works but it's slow. One way to speed it up is to consider a velocity term, $\\mathbf{p}$. Each update becomes:\n",
    "\n",
    "\\begin{align*}\n",
    "    &\\texttt{gradient_update}(\\imagevec_k): \\\\\n",
    "    &\\qquad \\mathbf{p}_{k+1} \\leftarrow \\mu \\mathbf{p}_k - \\alpha_k \\texttt{grad}(\\imagevec_k) \\\\\n",
    "    &\\qquad \\imagevec_{k+1}' \\leftarrow \\imagevec_k - \\mu \\mathbf{p}_{k} + (1+\\mu)\\mathbf{p}_{k+1} \\\\\n",
    "    &\\qquad \\imagevec_{k+1} \\leftarrow \\operatorname{proj}_{\\imagevec \\geq 0} (\\imagevec_{k+1}')\n",
    "\\end{align*}\n",
    "\n",
    "The parameter $\\mu$ is called the momentum and is strictly between 0 and 1."
   ]
  },
  {
   "cell_type": "code",
   "execution_count": 11,
   "metadata": {},
   "outputs": [],
   "source": [
    "def nesterov_update(vk, p, mu, parent_var):\n",
    "    H, Hadj, b, crop, pad, alpha, proj = parent_var\n",
    "    \n",
    "    p_prev = p\n",
    "    gradient = grad(Hadj, H, vk, b, crop, pad)\n",
    "    p = mu*p - alpha*gradient\n",
    "    vk += -mu*p_prev + (1+mu)*p\n",
    "    vk = proj(vk)\n",
    "    \n",
    "    return vk, p"
   ]
  },
  {
   "cell_type": "markdown",
   "metadata": {},
   "source": [
    "##### FISTA \n",
    "Instead of Nesterov momentum, we can use FISTA, which speeds up the iterative process. Each iteration of the algorithm is as follows:\n",
    "\n",
    "\\begin{align*}\n",
    "    &\\texttt{gradient_update}(\\imagevec_k):\\\\\n",
    "    &\\qquad \\imagevec_k \\leftarrow \\imagevec_k - \\alpha_k \\texttt{grad}(\\imagevec_k) \\\\ \n",
    "    &\\qquad x_{k} \\leftarrow \\texttt{proj}(\\imagevec_k) \\\\\n",
    "    &\\qquad t_{k+1} \\leftarrow \\frac{1+\\sqrt{1+4t_k^2}}{2} \\\\\n",
    "    &\\qquad \\imagevec_{k+1} \\leftarrow x_{k} + \\frac{t_k-1}{t_{k+1}} (x_{k}-x_{k-1}) \\\\\n",
    "\\end{align*}\n"
   ]
  },
  {
   "cell_type": "code",
   "execution_count": 12,
   "metadata": {},
   "outputs": [],
   "source": [
    "def fista_update(vk, tk, xk, parent_var):\n",
    "    H, Hadj, b, crop, pad, alpha, proj = parent_var\n",
    "    \n",
    "    x_k1 = xk\n",
    "    gradient = grad(Hadj, H, vk, b, crop, pad)\n",
    "    vk -= alpha*gradient\n",
    "    xk = proj(vk)\n",
    "    t_k1 = (1+np.sqrt(1+4*tk**2))/2\n",
    "    vk = xk+(tk-1)/t_k1*(xk - x_k1)\n",
    "    tk = t_k1\n",
    "    \n",
    "    return vk, tk, xk"
   ]
  },
  {
   "cell_type": "markdown",
   "metadata": {},
   "source": [
    "#### Running the algorithm"
   ]
  },
  {
   "cell_type": "code",
   "execution_count": 13,
   "metadata": {},
   "outputs": [
    {
     "data": {
      "image/png": "[encoded data removed]",
      "text/plain": [
       "<Figure size 432x288 with 1 Axes>"
      ]
     },
     "metadata": {
      "needs_background": "light"
     },
     "output_type": "display_data"
    },
    {
     "data": {
      "image/png": "[encoded data removed]",
      "text/plain": [
       "<Figure size 432x288 with 1 Axes>"
      ]
     },
     "metadata": {
      "needs_background": "light"
     },
     "output_type": "display_data"
    }
   ],
   "source": [
    "psf, data = loaddata()\n",
    "final_im = grad_descent(psf, data)\n",
    "plt.imshow(final_im, cmap='gray')\n",
    "plt.title('Final reconstruction after {} iterations'.format(iters))\n",
    "display.display()\n"
   ]
  }
 ],
 "metadata": {
  "kernelspec": {
   "display_name": "Python 3.8.12 ('astro')",
   "language": "python",
   "name": "python3"
  },
  "language_info": {
   "codemirror_mode": {
    "name": "ipython",
    "version": 3
   },
   "file_extension": ".py",
   "mimetype": "text/x-python",
   "name": "python",
   "nbconvert_exporter": "python",
   "pygments_lexer": "ipython3",
   "version": "3.8.12"
  },
  "vscode": {
   "interpreter": {
    "hash": "5b961726f24694b6f17f740f2c5030ec25616772daf73a312ff6748a00a3f54b"
   }
  }
 },
 "nbformat": 4,
 "nbformat_minor": 2
}
