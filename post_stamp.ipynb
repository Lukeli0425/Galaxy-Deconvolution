{
 "cells": [
  {
   "cell_type": "code",
   "execution_count": 37,
   "metadata": {},
   "outputs": [],
   "source": [
    "\n",
    "import os\n",
    "import json\n",
    "import numpy as np\n",
    "import matplotlib.pyplot as plt\n",
    "import torch\n",
    "from torch.fft import fft2, ifft2, fftshift, ifftshift\n",
    "from torch.utils.data import DataLoader\n",
    "import galsim\n",
    "from dataset import Galaxy_Dataset, get_COSMOS_Galaxy, get_LSST_PSF\n",
    "from models.Unrolled_ADMM import Unrolled_ADMM\n",
    "from models.Richard_Lucy import Richard_Lucy\n",
    "from utils import PSNR, estimate_shear\n",
    "\n",
    "device = torch.device(\"cuda:0\" if torch.cuda.is_available() else \"cpu\")"
   ]
  },
  {
   "cell_type": "markdown",
   "metadata": {},
   "source": [
    "## LSST"
   ]
  },
  {
   "cell_type": "markdown",
   "metadata": {},
   "source": [
    "### Define basic parameters"
   ]
  },
  {
   "cell_type": "code",
   "execution_count": 38,
   "metadata": {},
   "outputs": [],
   "source": [
    "COSMOS_dir = './data/COSMOS_23.5_training_sample/'\n",
    "real_galaxy_catalog = galsim.RealGalaxyCatalog(dir=COSMOS_dir, sample=str(23.5))\n",
    "\n",
    "fov_pixels = 48\n",
    "pixel_scale = 0.2\n",
    "gal_max_shear = 0.5\n",
    "seeing = 0.7\n",
    "atmos_max_shear = 0.2"
   ]
  },
  {
   "cell_type": "markdown",
   "metadata": {},
   "source": [
    "### Simulate PSF"
   ]
  },
  {
   "cell_type": "code",
   "execution_count": 39,
   "metadata": {},
   "outputs": [],
   "source": [
    "# PSF parameters\n",
    "rng = galsim.UniformDeviate(seed=294) # Initialize the random number generator\n",
    "rng_gaussian = galsim.GaussianDeviate(seed=34, mean=seeing, sigma=0.18)\n",
    "atmos_fwhm = 0 # arcsec (mean 0.7 for LSST)\n",
    "while atmos_fwhm < 0.35 or atmos_fwhm > 1.1: # sample fwhm\n",
    "    atmos_fwhm = rng_gaussian()\n",
    "atmos_e = rng() * atmos_max_shear # ellipticity of atmospheric PSF\n",
    "atmos_beta = 2. * np.pi * rng()     # radians\n",
    "atmos_shear = galsim.Shear(e=atmos_e, beta=atmos_beta * galsim.radians)\n",
    "opt_defocus = 0.3 + 0.4 * rng()     # wavelengths\n",
    "opt_a1 = 2*0.5*(rng() - 0.5)        # wavelengths (-0.29)\n",
    "opt_a2 = 2*0.5*(rng() - 0.5)        # wavelengths (0.12)\n",
    "opt_c1 = 2*1.*(rng() - 0.5)         # wavelengths (0.64)\n",
    "opt_c2 = 2*1.*(rng() - 0.5)         # wavelengths (-0.33)\n",
    "opt_obscuration = 0.165             # linear scale size of secondary mirror obscuration $(3.4/8.36)^2$\n",
    "lam = 700                           # nm    NB: don't use lambda - that's a reserved word.\n",
    "tel_diam = 8.36 # telescope diameter / meters (8.36 for LSST, 6.5 for JWST)\n",
    "pixel_scale = pixel_scale\n",
    "\n",
    "psf = get_LSST_PSF(lam, tel_diam, opt_defocus, opt_c1, opt_c2, opt_a1, opt_a2, opt_obscuration,\n",
    "                    atmos_fwhm, atmos_e, atmos_beta, 0, 0,\n",
    "                    fov_pixels, pixel_scale=pixel_scale)   "
   ]
  },
  {
   "cell_type": "markdown",
   "metadata": {},
   "source": [
    "### Simulate galaxy"
   ]
  },
  {
   "cell_type": "code",
   "execution_count": 40,
   "metadata": {},
   "outputs": [
    {
     "name": "stdout",
     "output_type": "stream",
     "text": [
      "gal_flux=62500.0 \tSNR=158.9\n",
      "gal_flux=25000.0 \tSNR=73.0\n",
      "gal_flux=10000.0 \tSNR=31.3\n",
      "gal_flux=7500.0 \tSNR=23.8\n",
      "gal_flux=4000.0 \tSNR=12.9\n"
     ]
    }
   ],
   "source": [
    "idx = 0 # index pf galaxy in the catalog\n",
    "\n",
    "# Galaxy parameters \n",
    "gal_e = rng() * gal_max_shear       # shear of galaxy\n",
    "gal_beta = 2. * np.pi * rng()       # radians\n",
    "gal_shear = galsim.Shear(e=gal_e, beta=gal_beta*galsim.radians)\n",
    "gal_mu = 1 + rng() * 0.1            # mu = ((1-kappa)^2 - g1^2 - g2^2)^-1 (1.082)\n",
    "theta = 2. * np.pi * rng()          # radians\n",
    "sky_level = 1.e3                     # ADU / arcsec^2\n",
    "\n",
    "gal_flux_list = [6.25e4, 2.5e4, 1e4, 0.75e4, 0.4e4]\n",
    "gt_list = []\n",
    "snr_list = []\n",
    "for gal_flux in gal_flux_list:                    \n",
    "    gt, gal_orig = get_COSMOS_Galaxy(catalog=real_galaxy_catalog, idx=idx, \n",
    "                                        gal_flux=gal_flux, sky_level=sky_level, \n",
    "                                        gal_e=gal_e, gal_beta=gal_beta, \n",
    "                                        theta=theta, gal_mu=gal_mu, \n",
    "                                        fov_pixels=fov_pixels, pixel_scale=pixel_scale, \n",
    "                                        rng=rng)\n",
    "    gt_list.append(gt)\n",
    "    snr = gal_flux/np.sqrt(gal_flux + sky_level*(fov_pixels**2)*(pixel_scale**2))\n",
    "    snr_list.append(snr)\n",
    "    print('gal_flux={:.1f} \\tSNR={:.1f}'.format(gal_flux, snr))\n"
   ]
  },
  {
   "cell_type": "markdown",
   "metadata": {},
   "source": [
    "### Simulate Observation"
   ]
  },
  {
   "cell_type": "code",
   "execution_count": 41,
   "metadata": {},
   "outputs": [],
   "source": [
    "obs_list = []\n",
    "for gt in gt_list:\n",
    "    # Convolution via FFT\n",
    "    conv = ifftshift(ifft2(fft2(psf) * fft2(gt))).abs()\n",
    "    conv = torch.max(torch.zeros_like(conv), conv) # set negative pixels to zero\n",
    "\n",
    "    # Add CCD noise (Poisson + Gaussian)\n",
    "    obs = torch.poisson(conv) + torch.normal(mean=torch.zeros_like(conv), std=2*torch.ones_like(conv))\n",
    "    obs = torch.max(torch.zeros_like(obs), obs) # set negative pixels to zero\n",
    "    obs = (obs - obs.min())/(obs.max() - obs.min())\n",
    "\n",
    "    obs_list.append(obs)"
   ]
  },
  {
   "cell_type": "markdown",
   "metadata": {},
   "source": [
    "### Richard-Lucy Deconvolution"
   ]
  },
  {
   "cell_type": "code",
   "execution_count": 42,
   "metadata": {},
   "outputs": [
    {
     "ename": "AttributeError",
     "evalue": "'Richard_Lucy' object has no attribute '_backward_hooks'",
     "output_type": "error",
     "traceback": [
      "\u001b[0;31m---------------------------------------------------------------------------\u001b[0m",
      "\u001b[0;31mAttributeError\u001b[0m                            Traceback (most recent call last)",
      "\u001b[1;32m/Users/luke/Desktop/Galaxy-Deconvolution/post_stamp.ipynb Cell 12\u001b[0m in \u001b[0;36m<cell line: 5>\u001b[0;34m()\u001b[0m\n\u001b[1;32m      <a href='vscode-notebook-cell:/Users/luke/Desktop/Galaxy-Deconvolution/post_stamp.ipynb#X14sZmlsZQ%3D%3D?line=3'>4</a>\u001b[0m rec_RL_list \u001b[39m=\u001b[39m []\n\u001b[1;32m      <a href='vscode-notebook-cell:/Users/luke/Desktop/Galaxy-Deconvolution/post_stamp.ipynb#X14sZmlsZQ%3D%3D?line=4'>5</a>\u001b[0m \u001b[39mfor\u001b[39;00m obs \u001b[39min\u001b[39;00m obs_list:\n\u001b[0;32m----> <a href='vscode-notebook-cell:/Users/luke/Desktop/Galaxy-Deconvolution/post_stamp.ipynb#X14sZmlsZQ%3D%3D?line=5'>6</a>\u001b[0m     rec_RL \u001b[39m=\u001b[39m RL(obs\u001b[39m.\u001b[39;49munsqueeze(dim\u001b[39m=\u001b[39;49m\u001b[39m0\u001b[39;49m)\u001b[39m.\u001b[39;49mto(device), psf\u001b[39m.\u001b[39;49munsqueeze(dim\u001b[39m=\u001b[39;49m\u001b[39m0\u001b[39;49m)\u001b[39m.\u001b[39;49mto(device))\n\u001b[1;32m      <a href='vscode-notebook-cell:/Users/luke/Desktop/Galaxy-Deconvolution/post_stamp.ipynb#X14sZmlsZQ%3D%3D?line=6'>7</a>\u001b[0m     rec_RL_list\u001b[39m.\u001b[39mappend(rec_RL)\n",
      "File \u001b[0;32m~/miniforge3/envs/astro/lib/python3.8/site-packages/torch/nn/modules/module.py:1128\u001b[0m, in \u001b[0;36mModule._call_impl\u001b[0;34m(self, *input, **kwargs)\u001b[0m\n\u001b[1;32m   1125\u001b[0m forward_call \u001b[39m=\u001b[39m (\u001b[39mself\u001b[39m\u001b[39m.\u001b[39m_slow_forward \u001b[39mif\u001b[39;00m torch\u001b[39m.\u001b[39m_C\u001b[39m.\u001b[39m_get_tracing_state() \u001b[39melse\u001b[39;00m \u001b[39mself\u001b[39m\u001b[39m.\u001b[39mforward)\n\u001b[1;32m   1126\u001b[0m \u001b[39m# If we don't have any hooks, we want to skip the rest of the logic in\u001b[39;00m\n\u001b[1;32m   1127\u001b[0m \u001b[39m# this function, and just call forward.\u001b[39;00m\n\u001b[0;32m-> 1128\u001b[0m \u001b[39mif\u001b[39;00m \u001b[39mnot\u001b[39;00m (\u001b[39mself\u001b[39;49m\u001b[39m.\u001b[39;49m_backward_hooks \u001b[39mor\u001b[39;00m \u001b[39mself\u001b[39m\u001b[39m.\u001b[39m_forward_hooks \u001b[39mor\u001b[39;00m \u001b[39mself\u001b[39m\u001b[39m.\u001b[39m_forward_pre_hooks \u001b[39mor\u001b[39;00m _global_backward_hooks\n\u001b[1;32m   1129\u001b[0m         \u001b[39mor\u001b[39;00m _global_forward_hooks \u001b[39mor\u001b[39;00m _global_forward_pre_hooks):\n\u001b[1;32m   1130\u001b[0m     \u001b[39mreturn\u001b[39;00m forward_call(\u001b[39m*\u001b[39m\u001b[39minput\u001b[39m, \u001b[39m*\u001b[39m\u001b[39m*\u001b[39mkwargs)\n\u001b[1;32m   1131\u001b[0m \u001b[39m# Do not call functions when jit is used\u001b[39;00m\n",
      "File \u001b[0;32m~/miniforge3/envs/astro/lib/python3.8/site-packages/torch/nn/modules/module.py:1207\u001b[0m, in \u001b[0;36mModule.__getattr__\u001b[0;34m(self, name)\u001b[0m\n\u001b[1;32m   1205\u001b[0m     \u001b[39mif\u001b[39;00m name \u001b[39min\u001b[39;00m modules:\n\u001b[1;32m   1206\u001b[0m         \u001b[39mreturn\u001b[39;00m modules[name]\n\u001b[0;32m-> 1207\u001b[0m \u001b[39mraise\u001b[39;00m \u001b[39mAttributeError\u001b[39;00m(\u001b[39m\"\u001b[39m\u001b[39m'\u001b[39m\u001b[39m{}\u001b[39;00m\u001b[39m'\u001b[39m\u001b[39m object has no attribute \u001b[39m\u001b[39m'\u001b[39m\u001b[39m{}\u001b[39;00m\u001b[39m'\u001b[39m\u001b[39m\"\u001b[39m\u001b[39m.\u001b[39mformat(\n\u001b[1;32m   1208\u001b[0m     \u001b[39mtype\u001b[39m(\u001b[39mself\u001b[39m)\u001b[39m.\u001b[39m\u001b[39m__name__\u001b[39m, name))\n",
      "\u001b[0;31mAttributeError\u001b[0m: 'Richard_Lucy' object has no attribute '_backward_hooks'"
     ]
    }
   ],
   "source": [
    "n_iters = 50\n",
    "RL = Richard_Lucy(n_iters=n_iters)\n",
    "\n",
    "rec_RL_list = []\n",
    "for obs in obs_list:\n",
    "    rec_RL = RL(obs.unsqueeze(dim=0).to(device), psf.unsqueeze(dim=0).to(device))\n",
    "    rec_RL_list.append(rec_RL)"
   ]
  },
  {
   "cell_type": "code",
   "execution_count": null,
   "metadata": {},
   "outputs": [],
   "source": [
    "iter_list = [1,2,4,8]\n",
    "rec_admm = [[], [], [], []]\n",
    "model_files = ['saved_models/Poisson_PnP_1iters_LSST23.5_50epochs.pth',\n",
    "               'saved_models/Poisson_PnP_2iters_LSST23.5_50epochs.pth',\n",
    "               'saved_models/Poisson_PnP_4iters_LSST23.5_50epochs.pth', \n",
    "               'saved_models/Poisson_PnP_8iters_LSST23.5_50epochs.pth']#,\n",
    "            #    'saved_models/Poisson_PnP_12iters_LSST23.5_25epochs.pth']\n",
    "for idx, (n_iters, model_file) in enumerate(zip(iter_list, model_files)):\n",
    "    model = Unrolled_ADMM(n_iters=n_iters, llh='Poisson', PnP=True)\n",
    "    model.to(device)\n",
    "    model.load_state_dict(torch.load(model_file, map_location=torch.device(device)))\n",
    "    print(f'Successfully loaded in {model_file}.')\n",
    "\n",
    "    for obs in obs_list:\n",
    "        alpha = obs.ravel().mean()/0.33\n",
    "        alpha = torch.Tensor(alpha.float()).view(1,1,1,1)\n",
    "\n",
    "        output = model(obs.unsqueeze(dim=0).unsqueeze(dim=0).to(device), psf.unsqueeze(dim=0).unsqueeze(dim=0).to(device), alpha.to(device))\n",
    "        rec = (output.cpu() * alpha.cpu()).squeeze(dim=0).squeeze(dim=0).detach()\n",
    "        rec_admm[idx].append(rec)\n",
    "    "
   ]
  },
  {
   "cell_type": "markdown",
   "metadata": {},
   "source": [
    "### Plot Post Stamp"
   ]
  },
  {
   "cell_type": "code",
   "execution_count": null,
   "metadata": {},
   "outputs": [],
   "source": [
    "plt.figure(figsize=(18,10))\n",
    "for idx, (gt, obs, snr, rec_RL, rec_1, rec_2, rec_4, rec_8) in enumerate(zip(gt_list, obs_list, snr_list, rec_RL_list, rec_admm[0], rec_admm[1], rec_admm[2], rec_admm[3])):\n",
    "    plt.subplot(5,7,7*idx+1)\n",
    "    plt.imshow(gt)\n",
    "    plt.title(\"SNR={:.1f}\".format(snr),y=-0.2,loc='left')\n",
    "    plt.axis('off')\n",
    "    if idx == 0:\n",
    "        plt.title('Ground truth')\n",
    "\n",
    "    plt.subplot(5,7,7*idx+2)\n",
    "    plt.imshow(obs)\n",
    "    plt.title(\"PSNR={:.2f}\".format(PSNR(obs,gt)),y=-0.2,loc='left')\n",
    "    plt.axis('off')\n",
    "    if idx == 0:\n",
    "        plt.title('Observation')\n",
    "\n",
    "    plt.subplot(5,7,7*idx+3)\n",
    "    plt.imshow(rec_RL)\n",
    "    plt.title(\"PSNR={:.2f}\".format(PSNR(rec_RL,gt)),y=-0.2,loc='left')\n",
    "    plt.axis('off')\n",
    "    if idx == 0:\n",
    "        plt.title('Richard-Lucy')\n",
    "\n",
    "    plt.subplot(5,7,7*idx+4)\n",
    "    plt.imshow(rec_1)\n",
    "    plt.title(\"PSNR={:.2f}\".format(PSNR(rec_1,gt)),y=-0.2,loc='left')\n",
    "    plt.axis('off')\n",
    "    if idx == 0:\n",
    "        plt.title('Unrolled-ADMM (1)')\n",
    "\n",
    "    plt.subplot(5,7,7*idx+5)\n",
    "    plt.imshow(rec_2)\n",
    "    plt.title(\"PSNR={:.2f}\".format(PSNR(rec_2,gt)),y=-0.2,loc='left')\n",
    "    plt.axis('off')\n",
    "    if idx == 0:\n",
    "        plt.title('Unrolled-ADMM (2)')\n",
    "\n",
    "    plt.subplot(5,7,7*idx+6)\n",
    "    plt.imshow(rec_4)\n",
    "    plt.title(\"PSNR={:.2f}\".format(PSNR(rec_4,gt)),y=-0.2,loc='left')\n",
    "    plt.axis('off')\n",
    "    if idx == 0:\n",
    "        plt.title('Unrolled-ADMM (4)')\n",
    "\n",
    "    plt.subplot(5,7,7*idx+7)\n",
    "    plt.imshow(rec_8)\n",
    "    plt.title(\"PSNR={:.2f}\".format(PSNR(rec_8,gt)),y=-0.2,loc='left')\n",
    "    plt.axis('off')\n",
    "    if idx == 0:\n",
    "        plt.title('Unrolled-ADMM (8)')\n",
    "\n",
    "plt.show()"
   ]
  }
 ],
 "metadata": {
  "kernelspec": {
   "display_name": "Python 3.8.12 ('astro')",
   "language": "python",
   "name": "python3"
  },
  "language_info": {
   "codemirror_mode": {
    "name": "ipython",
    "version": 3
   },
   "file_extension": ".py",
   "mimetype": "text/x-python",
   "name": "python",
   "nbconvert_exporter": "python",
   "pygments_lexer": "ipython3",
   "version": "3.8.12"
  },
  "orig_nbformat": 4,
  "vscode": {
   "interpreter": {
    "hash": "5b961726f24694b6f17f740f2c5030ec25616772daf73a312ff6748a00a3f54b"
   }
  }
 },
 "nbformat": 4,
 "nbformat_minor": 2
}
